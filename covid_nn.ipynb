{
 "cells": [
  {
   "cell_type": "markdown",
   "metadata": {},
   "source": [
    "# Detecting Covid-19 with Keras neural network"
   ]
  },
  {
   "cell_type": "markdown",
   "metadata": {},
   "source": [
    "## 0. Import and loading"
   ]
  },
  {
   "cell_type": "code",
   "execution_count": 1,
   "metadata": {},
   "outputs": [
    {
     "name": "stderr",
     "output_type": "stream",
     "text": [
      "Using TensorFlow backend.\n"
     ]
    }
   ],
   "source": [
    "from keras.preprocessing.image import load_img\n",
    "from keras.preprocessing.image import ImageDataGenerator"
   ]
  },
  {
   "cell_type": "code",
   "execution_count": 2,
   "metadata": {},
   "outputs": [],
   "source": [
    "train_path = r'D:\\MasterBigData\\Didattica\\DL\\Progetto\\576013_1042828_bundle_archive\\COVID-19 Radiography Database\\train'\n",
    "test_path = r'D:\\MasterBigData\\Didattica\\DL\\Progetto\\576013_1042828_bundle_archive\\COVID-19 Radiography Database\\test'"
   ]
  },
  {
   "cell_type": "code",
   "execution_count": 3,
   "metadata": {},
   "outputs": [],
   "source": [
    "train_datagen = ImageDataGenerator(rescale=1./255)\n",
    "                                ##augmentation parameters:\n",
    "                                  # ,shear_range=0.2, \n",
    "                                  # zoom_range=0.2, \n",
    "                                  # horizontal_flip=True)"
   ]
  },
  {
   "cell_type": "code",
   "execution_count": 4,
   "metadata": {},
   "outputs": [],
   "source": [
    "test_datagen = ImageDataGenerator(rescale=1./255)"
   ]
  },
  {
   "cell_type": "code",
   "execution_count": 83,
   "metadata": {},
   "outputs": [
    {
     "name": "stdout",
     "output_type": "stream",
     "text": [
      "Found 492 images belonging to 3 classes.\n",
      "Found 123 images belonging to 3 classes.\n"
     ]
    }
   ],
   "source": [
    "batch = 32\n",
    "train_it = train_datagen.flow_from_directory(train_path,\n",
    "                                     target_size=(256, 256),\n",
    "                                     batch_size=batch,\n",
    "                                     color_mode=\"rgb\",\n",
    "                                     class_mode=\"categorical\",\n",
    "                                     #shuffle=True,\n",
    "                                     #seed=42\n",
    "                                            )\n",
    "# load and iterate test dataset\n",
    "test_it = test_datagen.flow_from_directory(test_path, \n",
    "                                     target_size=(256, 256),\n",
    "                                     batch_size=batch,\n",
    "                                     color_mode=\"rgb\",\n",
    "                                     class_mode=\"categorical\",\n",
    "                                     #shuffle=True,\n",
    "                                     #seed=42\n",
    "                                          )"
   ]
  },
  {
   "cell_type": "markdown",
   "metadata": {},
   "source": [
    "## 1. Our models"
   ]
  },
  {
   "cell_type": "code",
   "execution_count": 84,
   "metadata": {},
   "outputs": [],
   "source": [
    "from keras.models import Sequential\n",
    "from keras.layers import Conv2D, MaxPooling2D\n",
    "from keras.layers import Activation, Dropout, Flatten, Dense\n",
    "from keras.layers import Convolution2D"
   ]
  },
  {
   "cell_type": "markdown",
   "metadata": {},
   "source": [
    "classifier = Sequential()\n",
    "\n",
    "classifier.add(Convolution2D(61, 3, 2, input_shape = (256, 256, 3), activation='relu'))\n",
    "classifier.add(MaxPooling2D(pool_size=(2,2)))\n",
    "classifier.add(Flatten())\n",
    "classifier.add(Dense(units = 128, activation='relu'))\n",
    "classifier.add(Dense(units = 128, activation='relu'))\n",
    "classifier.add(Dense(units = 128, activation='relu'))\n",
    "classifier.add(Dense(3, activation='softmax'))\n",
    "\n",
    "classifier.compile( optimizer=\"adam\",\n",
    "               loss='categorical_crossentropy',\n",
    "               metrics=['accuracy'] )"
   ]
  },
  {
   "cell_type": "code",
   "execution_count": 115,
   "metadata": {},
   "outputs": [],
   "source": [
    "model = Sequential()\n",
    "\n",
    "model.add( Conv2D(32, (3, 3), input_shape=(256, 256, 3))) \n",
    "model.add( Activation(\"relu\") )\n",
    "model.add( MaxPooling2D((2, 2)) )\n",
    "\n",
    "model.add( Conv2D(64, (3, 3), input_shape=(256, 256, 3))) \n",
    "model.add( Activation(\"relu\") )\n",
    "model.add( MaxPooling2D((2, 2)) )\n",
    "\n",
    "model.add( Flatten() )\n",
    "model.add( Dense(128) )\n",
    "model.add( Activation(\"relu\") )\n",
    "\n",
    "model.add(Dense(3, activation='softmax'))\n",
    "\n",
    "model.compile( optimizer=\"rmsprop\",\n",
    "               loss='categorical_crossentropy',\n",
    "               metrics=['accuracy'] )"
   ]
  },
  {
   "cell_type": "code",
   "execution_count": 116,
   "metadata": {},
   "outputs": [
    {
     "name": "stdout",
     "output_type": "stream",
     "text": [
      "Model: \"sequential_8\"\n",
      "_________________________________________________________________\n",
      "Layer (type)                 Output Shape              Param #   \n",
      "=================================================================\n",
      "conv2d_15 (Conv2D)           (None, 254, 254, 32)      896       \n",
      "_________________________________________________________________\n",
      "activation_22 (Activation)   (None, 254, 254, 32)      0         \n",
      "_________________________________________________________________\n",
      "max_pooling2d_15 (MaxPooling (None, 127, 127, 32)      0         \n",
      "_________________________________________________________________\n",
      "conv2d_16 (Conv2D)           (None, 125, 125, 64)      18496     \n",
      "_________________________________________________________________\n",
      "activation_23 (Activation)   (None, 125, 125, 64)      0         \n",
      "_________________________________________________________________\n",
      "max_pooling2d_16 (MaxPooling (None, 62, 62, 64)        0         \n",
      "_________________________________________________________________\n",
      "flatten_8 (Flatten)          (None, 246016)            0         \n",
      "_________________________________________________________________\n",
      "dense_15 (Dense)             (None, 128)               31490176  \n",
      "_________________________________________________________________\n",
      "activation_24 (Activation)   (None, 128)               0         \n",
      "_________________________________________________________________\n",
      "dense_16 (Dense)             (None, 3)                 387       \n",
      "=================================================================\n",
      "Total params: 31,509,955\n",
      "Trainable params: 31,509,955\n",
      "Non-trainable params: 0\n",
      "_________________________________________________________________\n"
     ]
    }
   ],
   "source": [
    "model.summary(line_length=None, positions=None, print_fn=None)"
   ]
  },
  {
   "cell_type": "markdown",
   "metadata": {},
   "source": [
    "## 2. Fitting"
   ]
  },
  {
   "cell_type": "code",
   "execution_count": 87,
   "metadata": {},
   "outputs": [
    {
     "name": "stdout",
     "output_type": "stream",
     "text": [
      "STEP_SIZE_TRAIN: 15\n",
      "STEP_SIZE_VALID: 3\n"
     ]
    }
   ],
   "source": [
    "#definiamo step_size per train e test\n",
    "STEP_SIZE_TRAIN=train_it.n//train_it.batch_size\n",
    "STEP_SIZE_VALID=test_it.n//test_it.batch_size\n",
    "print('STEP_SIZE_TRAIN:',STEP_SIZE_TRAIN)\n",
    "print('STEP_SIZE_VALID:',STEP_SIZE_VALID)"
   ]
  },
  {
   "cell_type": "code",
   "execution_count": 117,
   "metadata": {},
   "outputs": [
    {
     "name": "stdout",
     "output_type": "stream",
     "text": [
      "Epoch 1/2\n",
      "15/15 [==============================] - 22s 1s/step - loss: 1.9680 - accuracy: 0.4652 - val_loss: 0.7183 - val_accuracy: 0.7083\n",
      "Epoch 2/2\n",
      "15/15 [==============================] - 23s 2s/step - loss: 0.4013 - accuracy: 0.8565 - val_loss: 0.4756 - val_accuracy: 0.8242\n"
     ]
    }
   ],
   "source": [
    "hist = model.fit_generator(generator=train_it,\n",
    "                    steps_per_epoch=STEP_SIZE_TRAIN,\n",
    "                    validation_data=test_it,\n",
    "                    validation_steps=STEP_SIZE_VALID,\n",
    "                    epochs= 2)"
   ]
  },
  {
   "cell_type": "markdown",
   "metadata": {},
   "source": [
    "## 3. Evaluation"
   ]
  },
  {
   "cell_type": "code",
   "execution_count": 107,
   "metadata": {},
   "outputs": [],
   "source": [
    "evaluation = model.evaluate_generator(generator=test_it,\n",
    "steps=STEP_SIZE_VALID)"
   ]
  },
  {
   "cell_type": "code",
   "execution_count": 108,
   "metadata": {},
   "outputs": [
    {
     "data": {
      "text/plain": [
       "[0.7560538053512573, 0.75]"
      ]
     },
     "execution_count": 108,
     "metadata": {},
     "output_type": "execute_result"
    }
   ],
   "source": [
    "evaluation"
   ]
  },
  {
   "cell_type": "code",
   "execution_count": 91,
   "metadata": {},
   "outputs": [
    {
     "name": "stdout",
     "output_type": "stream",
     "text": [
      "Accuracy: 0.6934783\n",
      "Accuracy: 0.692307710647583\n"
     ]
    },
    {
     "data": {
      "image/png": "[encoded data removed]",
      "text/plain": [
       "<Figure size 432x432 with 1 Axes>"
      ]
     },
     "metadata": {
      "needs_background": "dark"
     },
     "output_type": "display_data"
    }
   ],
   "source": [
    "%matplotlib inline\n",
    "import matplotlib.pyplot as plt\n",
    "# plot training epochs\n",
    "\n",
    "fig, axes = plt.subplots(figsize=(6,6))\n",
    "\n",
    "axes.plot(hist.history['loss'], label='Loss')\n",
    "axes.plot(hist.history['accuracy'], label='Accuracy')\n",
    "\n",
    "axes.set_title(\"Training History\", fontsize=18)\n",
    "axes.set_xlabel(\"Epochs\", fontsize=18)\n",
    "axes.legend(fontsize=20)\n",
    "\n",
    "# Final accuracy\n",
    "print (\"Accuracy:\", hist.history['accuracy'][-1])\n",
    "# Final accuracy val\n",
    "print (\"Accuracy:\", hist.history['val_accuracy'][-1])"
   ]
  },
  {
   "cell_type": "code",
   "execution_count": 121,
   "metadata": {},
   "outputs": [
    {
     "data": {
      "text/plain": [
       "array([0.00276853, 0.95346004, 0.04377146], dtype=float32)"
      ]
     },
     "execution_count": 121,
     "metadata": {},
     "output_type": "execute_result"
    }
   ],
   "source": [
    "model.predict_generator(test_it)[0]"
   ]
  },
  {
   "cell_type": "code",
   "execution_count": 112,
   "metadata": {},
   "outputs": [
    {
     "data": {
      "text/plain": [
       "array([1, 2, 1, 0, 0, 1, 1, 2, 0, 0, 1, 2, 1, 1, 1, 1, 0, 2, 1, 1, 2, 1,\n",
       "       1, 0, 1, 0, 2, 2, 0, 1, 0, 1, 0, 2, 0, 0, 1, 2, 2, 1, 0, 1, 0, 1,\n",
       "       2, 1, 0, 1, 2, 1, 1, 1, 1, 0, 1, 0, 0, 1, 2, 1, 2, 0, 1, 1, 0, 0,\n",
       "       2, 1, 1, 0, 1, 1, 2, 0, 0, 1, 0, 1, 1, 1, 0, 2, 2, 1, 1, 0, 2, 1,\n",
       "       1, 0, 1, 1, 1, 2, 0, 1, 2, 1, 1, 1, 1, 2, 2, 1, 0, 0, 2, 1, 1, 0,\n",
       "       0, 1, 1, 1, 2, 1, 0, 1, 1, 1, 0, 0, 1], dtype=int64)"
      ]
     },
     "execution_count": 112,
     "metadata": {},
     "output_type": "execute_result"
    }
   ],
   "source": [
    "np.argmax(model.predict_generator(test_it), axis=1)"
   ]
  },
  {
   "cell_type": "code",
   "execution_count": 110,
   "metadata": {},
   "outputs": [
    {
     "data": {
      "text/plain": [
       "array([0, 0, 0, 0, 0, 0, 0, 0, 0, 0, 0, 0, 0, 0, 0, 0, 0, 0, 0, 0, 0, 0,\n",
       "       0, 0, 0, 0, 0, 0, 0, 0, 0, 0, 0, 0, 0, 0, 0, 0, 0, 0, 0, 1, 1, 1,\n",
       "       1, 1, 1, 1, 1, 1, 1, 1, 1, 1, 1, 1, 1, 1, 1, 1, 1, 1, 1, 1, 1, 1,\n",
       "       1, 1, 1, 1, 1, 1, 1, 1, 1, 1, 1, 1, 1, 1, 1, 1, 2, 2, 2, 2, 2, 2,\n",
       "       2, 2, 2, 2, 2, 2, 2, 2, 2, 2, 2, 2, 2, 2, 2, 2, 2, 2, 2, 2, 2, 2,\n",
       "       2, 2, 2, 2, 2, 2, 2, 2, 2, 2, 2, 2, 2])"
      ]
     },
     "execution_count": 110,
     "metadata": {},
     "output_type": "execute_result"
    }
   ],
   "source": [
    "y_true"
   ]
  },
  {
   "cell_type": "code",
   "execution_count": 111,
   "metadata": {},
   "outputs": [
    {
     "name": "stdout",
     "output_type": "stream",
     "text": [
      "Confusion Matrix\n",
      "[[12 21  8]\n",
      " [13 21  7]\n",
      " [11 20 10]]\n",
      "\n",
      "Classification Report\n",
      "              precision    recall  f1-score   support\n",
      "\n",
      "           0       0.33      0.29      0.31        41\n",
      "           1       0.34      0.51      0.41        41\n",
      "           2       0.40      0.24      0.30        41\n",
      "\n",
      "    accuracy                           0.35       123\n",
      "   macro avg       0.36      0.35      0.34       123\n",
      "weighted avg       0.36      0.35      0.34       123\n",
      "\n"
     ]
    }
   ],
   "source": [
    "from sklearn.metrics import confusion_matrix, classification_report\n",
    "import numpy as np\n",
    "\n",
    "# convert form prediction to id\n",
    "y_pred = model.predict_generator(test_it)\n",
    "y_pred = np.argmax(y_pred, axis=1) # argmax along axis 1\n",
    "\n",
    "y_true = test_it.labels # argmax along axis 1\n",
    "\n",
    "# compute confusion matrix\n",
    "print (\"Confusion Matrix\")\n",
    "print ( confusion_matrix(y_true, y_pred) )\n",
    "print()\n",
    "\n",
    "# compute classification report\n",
    "print (\"Classification Report\")\n",
    "print ( classification_report(y_true, y_pred) )"
   ]
  },
  {
   "cell_type": "code",
   "execution_count": 78,
   "metadata": {},
   "outputs": [],
   "source": [
    "#comando per salvare il modello\n",
    "classifier.save(r'C:\\Users\\Gianl\\OneDrive\\Documenti\\progetto Deep learning\\COVID-19 Radiography Database\\model')"
   ]
  }
 ],
 "metadata": {
  "kernelspec": {
   "display_name": "Python 3",
   "language": "python",
   "name": "python3"
  },
  "language_info": {
   "codemirror_mode": {
    "name": "ipython",
    "version": 3
   },
   "file_extension": ".py",
   "mimetype": "text/x-python",
   "name": "python",
   "nbconvert_exporter": "python",
   "pygments_lexer": "ipython3",
   "version": "3.7.6"
  }
 },
 "nbformat": 4,
 "nbformat_minor": 4
}
