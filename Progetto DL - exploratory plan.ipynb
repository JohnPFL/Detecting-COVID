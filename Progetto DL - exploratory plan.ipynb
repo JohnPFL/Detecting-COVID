{
 "cells": [
  {
   "cell_type": "markdown",
   "metadata": {},
   "source": [
    "# Detecting COVID"
   ]
  },
  {
   "cell_type": "code",
   "execution_count": 100,
   "metadata": {},
   "outputs": [],
   "source": [
    "#Let's do the import\n",
    "import tensorflow as tf\n",
    "import keras as k \n",
    "import sklearn as sk\n",
    "import matplotlib.pyplot as plt\n",
    "import numpy as np\n",
    "import argparse\n",
    "import os\n",
    "import IPython.display as display\n",
    "from PIL import Image\n",
    "import numpy as np\n",
    "import matplotlib.pyplot as plt\n",
    "import os\n",
    "import random\n",
    "import pandas as pd\n",
    "from sklearn.model_selection import train_test_split"
   ]
  },
  {
   "cell_type": "code",
   "execution_count": null,
   "metadata": {},
   "outputs": [],
   "source": [
    "pd.set_option('display.max_rows', None)\n",
    "pd.set_option('display.max_columns', None)\n",
    "pd.set_option('display.width', None)\n",
    "pd.set_option('display.max_colwidth', None)"
   ]
  },
  {
   "cell_type": "code",
   "execution_count": 42,
   "metadata": {},
   "outputs": [],
   "source": [
    "os.environ['TF_CPP_MIN_LOG_LEVEL'] = '2'"
   ]
  },
  {
   "cell_type": "code",
   "execution_count": 43,
   "metadata": {},
   "outputs": [],
   "source": [
    "#GPU configuration for data elaboration\n",
    "gpus = tf.config.experimental.list_physical_devices(device_type='GPU')\n",
    "for gpu in gpus:\n",
    "    tf.config.experimental.set_memory_growth(device=gpu, enable=True)"
   ]
  },
  {
   "cell_type": "code",
   "execution_count": 47,
   "metadata": {},
   "outputs": [],
   "source": [
    "train_tfrecord = 'XRay_train.tfrecords'\n",
    "test_tfrecord = 'XRay_test.tfrecords'\n",
    "train_percentage = 0.8  # Proportion of training set\n",
    "\n",
    "random.seed(20)\n",
    "\n",
    "input_path=r'C:\\Users\\Gianl\\OneDrive\\Documenti\\progetto Deep learning\\COVID-19 Radiography Database\\\\'"
   ]
  },
  {
   "cell_type": "code",
   "execution_count": 48,
   "metadata": {},
   "outputs": [],
   "source": [
    "learning_rate = 0.001\n",
    "buffer_size = 512\n",
    "batch_size = 16\n",
    "epochs = 100\n",
    "\n",
    "img_size = 128"
   ]
  },
  {
   "cell_type": "code",
   "execution_count": 101,
   "metadata": {},
   "outputs": [],
   "source": [
    "#Questa funzione è stata modificata per un sampling stratificato. \n",
    "def read_directory():\n",
    "    data_filenames = []\n",
    "    data_labels = []\n",
    "\n",
    "    for filename in os.listdir(input_path + 'COVID-19'):\n",
    "        data_filenames.append(input_path + 'COVID-19/' + filename)\n",
    "        data_labels.append(0)\n",
    "\n",
    "    for filename in os.listdir(input_path + 'NORMAL'):\n",
    "        data_filenames.append(input_path + 'NORMAL/' + filename)\n",
    "        data_labels.append(1)\n",
    "\n",
    "    for filename in os.listdir(input_path + 'Viral Pneumonia'):\n",
    "        data_filenames.append(input_path + 'Viral Pneumonia/' + filename)\n",
    "        data_labels.append(2)\n",
    "        \n",
    "    data_size = len(data_labels)\n",
    "    \n",
    "\n",
    "    train_filenames, test_filenames, train_labels, test_labels = train_test_split(data_filenames, data_labels, test_size=0.20,\n",
    "                                                                                  random_state=42, \n",
    "                                                                                  stratify=data_labels)\n",
    "    \n",
    "\n",
    "    return train_filenames, train_labels, test_filenames, test_labels"
   ]
  },
  {
   "cell_type": "code",
   "execution_count": 102,
   "metadata": {},
   "outputs": [],
   "source": [
    "train_covid, train_labels, test_covid, test_labels = read_directory()"
   ]
  },
  {
   "cell_type": "markdown",
   "metadata": {},
   "source": [
    "### Checking process"
   ]
  },
  {
   "cell_type": "code",
   "execution_count": 103,
   "metadata": {},
   "outputs": [
    {
     "data": {
      "text/plain": [
       "2    164\n",
       "1    164\n",
       "0    164\n",
       "dtype: int64"
      ]
     },
     "execution_count": 103,
     "metadata": {},
     "output_type": "execute_result"
    }
   ],
   "source": [
    "#Let's see the dimension of labels in train and test\n",
    "train_labels_pd = pd.Series(train_labels)\n",
    "train_labels_pd.value_counts()"
   ]
  },
  {
   "cell_type": "code",
   "execution_count": 104,
   "metadata": {},
   "outputs": [
    {
     "data": {
      "text/plain": [
       "2    41\n",
       "1    41\n",
       "0    41\n",
       "dtype: int64"
      ]
     },
     "execution_count": 104,
     "metadata": {},
     "output_type": "execute_result"
    }
   ],
   "source": [
    "test_labels_pd = pd.Series(test_labels)\n",
    "test_labels_pd.value_counts()"
   ]
  },
  {
   "cell_type": "code",
   "execution_count": 123,
   "metadata": {},
   "outputs": [
    {
     "data": {
      "text/html": [
       "<div>\n",
       "<style scoped>\n",
       "    .dataframe tbody tr th:only-of-type {\n",
       "        vertical-align: middle;\n",
       "    }\n",
       "\n",
       "    .dataframe tbody tr th {\n",
       "        vertical-align: top;\n",
       "    }\n",
       "\n",
       "    .dataframe thead th {\n",
       "        text-align: right;\n",
       "    }\n",
       "</style>\n",
       "<table border=\"1\" class=\"dataframe\">\n",
       "  <thead>\n",
       "    <tr style=\"text-align: right;\">\n",
       "      <th></th>\n",
       "      <th>col1</th>\n",
       "      <th>col2</th>\n",
       "    </tr>\n",
       "  </thead>\n",
       "  <tbody>\n",
       "    <tr>\n",
       "      <th>0</th>\n",
       "      <td>C:\\Users\\Gianl\\OneDrive\\Documenti\\progetto Deep learning\\COVID-19 Radiography Database\\\\NORMAL/NORMAL (127).png</td>\n",
       "      <td>1</td>\n",
       "    </tr>\n",
       "    <tr>\n",
       "      <th>1</th>\n",
       "      <td>C:\\Users\\Gianl\\OneDrive\\Documenti\\progetto Deep learning\\COVID-19 Radiography Database\\\\COVID-19/COVID-19 (104).png</td>\n",
       "      <td>0</td>\n",
       "    </tr>\n",
       "    <tr>\n",
       "      <th>2</th>\n",
       "      <td>C:\\Users\\Gianl\\OneDrive\\Documenti\\progetto Deep learning\\COVID-19 Radiography Database\\\\NORMAL/NORMAL (196).png</td>\n",
       "      <td>1</td>\n",
       "    </tr>\n",
       "    <tr>\n",
       "      <th>3</th>\n",
       "      <td>C:\\Users\\Gianl\\OneDrive\\Documenti\\progetto Deep learning\\COVID-19 Radiography Database\\\\Viral Pneumonia/Viral Pneumonia (177).png</td>\n",
       "      <td>2</td>\n",
       "    </tr>\n",
       "    <tr>\n",
       "      <th>4</th>\n",
       "      <td>C:\\Users\\Gianl\\OneDrive\\Documenti\\progetto Deep learning\\COVID-19 Radiography Database\\\\NORMAL/NORMAL (30).png</td>\n",
       "      <td>1</td>\n",
       "    </tr>\n",
       "  </tbody>\n",
       "</table>\n",
       "</div>"
      ],
      "text/plain": [
       "                                                                                                                                col1  \\\n",
       "0                    C:\\Users\\Gianl\\OneDrive\\Documenti\\progetto Deep learning\\COVID-19 Radiography Database\\\\NORMAL/NORMAL (127).png   \n",
       "1                C:\\Users\\Gianl\\OneDrive\\Documenti\\progetto Deep learning\\COVID-19 Radiography Database\\\\COVID-19/COVID-19 (104).png   \n",
       "2                    C:\\Users\\Gianl\\OneDrive\\Documenti\\progetto Deep learning\\COVID-19 Radiography Database\\\\NORMAL/NORMAL (196).png   \n",
       "3  C:\\Users\\Gianl\\OneDrive\\Documenti\\progetto Deep learning\\COVID-19 Radiography Database\\\\Viral Pneumonia/Viral Pneumonia (177).png   \n",
       "4                     C:\\Users\\Gianl\\OneDrive\\Documenti\\progetto Deep learning\\COVID-19 Radiography Database\\\\NORMAL/NORMAL (30).png   \n",
       "\n",
       "   col2  \n",
       "0     1  \n",
       "1     0  \n",
       "2     1  \n",
       "3     2  \n",
       "4     1  "
      ]
     },
     "execution_count": 123,
     "metadata": {},
     "output_type": "execute_result"
    }
   ],
   "source": [
    "#let's see if the process of train and test assignments worked right\n",
    "d = {'col1': train_covid, 'col2': train_labels}\n",
    "df = pd.DataFrame(data=d)\n",
    "df.head()"
   ]
  },
  {
   "cell_type": "code",
   "execution_count": null,
   "metadata": {},
   "outputs": [],
   "source": []
  }
 ],
 "metadata": {
  "kernelspec": {
   "display_name": "Python 3",
   "language": "python",
   "name": "python3"
  },
  "language_info": {
   "codemirror_mode": {
    "name": "ipython",
    "version": 3
   },
   "file_extension": ".py",
   "mimetype": "text/x-python",
   "name": "python",
   "nbconvert_exporter": "python",
   "pygments_lexer": "ipython3",
   "version": "3.7.7"
  }
 },
 "nbformat": 4,
 "nbformat_minor": 4
}
