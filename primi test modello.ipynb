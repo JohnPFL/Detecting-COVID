{
 "cells": [
  {
   "cell_type": "code",
   "execution_count": 18,
   "metadata": {},
   "outputs": [],
   "source": [
    "from keras.preprocessing.image import load_img\n",
    "from keras.preprocessing.image import ImageDataGenerator"
   ]
  },
  {
   "cell_type": "code",
   "execution_count": 19,
   "metadata": {},
   "outputs": [],
   "source": [
    "train_datagen = ImageDataGenerator(rescale=1./255, \n",
    "                                   shear_range=0.2, \n",
    "                                   zoom_range=0.2, \n",
    "                                   horizontal_flip=True)"
   ]
  },
  {
   "cell_type": "code",
   "execution_count": 20,
   "metadata": {},
   "outputs": [],
   "source": [
    "test_datagen = ImageDataGenerator(rescale=1./255)"
   ]
  },
  {
   "cell_type": "code",
   "execution_count": 21,
   "metadata": {},
   "outputs": [
    {
     "name": "stdout",
     "output_type": "stream",
     "text": [
      "Found 492 images belonging to 3 classes.\n",
      "Found 123 images belonging to 3 classes.\n"
     ]
    }
   ],
   "source": [
    "train_it = train_datagen.flow_from_directory(r'C:\\Users\\Gianl\\OneDrive\\Documenti\\progetto Deep learning\\COVID-19 Radiography Database\\train',\n",
    "                                     target_size=(256, 256),\n",
    "                                     batch_size=32,\n",
    "                                     color_mode=\"rgb\",\n",
    "                                     class_mode=\"categorical\",\n",
    "                                     shuffle=True,\n",
    "                                     seed=42)\n",
    "# load and iterate test dataset\n",
    "test_it = test_datagen.flow_from_directory(r'C:\\Users\\Gianl\\OneDrive\\Documenti\\progetto Deep learning\\COVID-19 Radiography Database\\test', \n",
    "                                    target_size=(256, 256),\n",
    "                                     batch_size=32,\n",
    "                                     color_mode=\"rgb\",\n",
    "                                     class_mode=\"categorical\",\n",
    "                                     shuffle=True,\n",
    "                                     seed=42)"
   ]
  },
  {
   "cell_type": "code",
   "execution_count": 22,
   "metadata": {},
   "outputs": [
    {
     "name": "stdout",
     "output_type": "stream",
     "text": [
      "Batch shape=(40, 256, 256, 3), min=0.000, max=1.000\n"
     ]
    }
   ],
   "source": [
    "batchX, batchy = train_it.next()\n",
    "print('Batch shape=%s, min=%.3f, max=%.3f' % (batchX.shape, batchX.min(), batchX.max()))"
   ]
  },
  {
   "cell_type": "code",
   "execution_count": 23,
   "metadata": {},
   "outputs": [],
   "source": [
    "from keras.utils import to_categorical\n",
    "train_labels = to_categorical(batchy)"
   ]
  },
  {
   "cell_type": "code",
   "execution_count": 24,
   "metadata": {},
   "outputs": [
    {
     "data": {
      "text/plain": [
       "(40, 3, 2)"
      ]
     },
     "execution_count": 24,
     "metadata": {},
     "output_type": "execute_result"
    }
   ],
   "source": [
    "train_labels.shape"
   ]
  },
  {
   "cell_type": "markdown",
   "metadata": {},
   "source": [
    "## Let's model"
   ]
  },
  {
   "cell_type": "code",
   "execution_count": 8,
   "metadata": {},
   "outputs": [],
   "source": [
    "from keras.models import Sequential\n",
    "from keras.layers import Conv2D, MaxPooling2D\n",
    "from keras.layers import Activation, Dropout, Flatten, Dense\n",
    "from keras.layers import Convolution2D\n",
    "\n",
    "classifier = Sequential()"
   ]
  },
  {
   "cell_type": "code",
   "execution_count": 25,
   "metadata": {},
   "outputs": [
    {
     "name": "stderr",
     "output_type": "stream",
     "text": [
      "C:\\Users\\Gianl\\Anaconda3\\lib\\site-packages\\ipykernel_launcher.py:1: UserWarning: Update your `Conv2D` call to the Keras 2 API: `Conv2D(40, (3, 2), input_shape=(256, 256,..., activation=\"relu\")`\n",
      "  \"\"\"Entry point for launching an IPython kernel.\n"
     ]
    },
    {
     "ename": "ValueError",
     "evalue": "Input 0 is incompatible with layer conv2d_2: expected ndim=4, found ndim=2",
     "output_type": "error",
     "traceback": [
      "\u001b[1;31m---------------------------------------------------------------------------\u001b[0m",
      "\u001b[1;31mValueError\u001b[0m                                Traceback (most recent call last)",
      "\u001b[1;32m<ipython-input-25-0467183e1a84>\u001b[0m in \u001b[0;36m<module>\u001b[1;34m\u001b[0m\n\u001b[1;32m----> 1\u001b[1;33m \u001b[0mclassifier\u001b[0m\u001b[1;33m.\u001b[0m\u001b[0madd\u001b[0m\u001b[1;33m(\u001b[0m\u001b[0mConvolution2D\u001b[0m\u001b[1;33m(\u001b[0m\u001b[1;36m40\u001b[0m\u001b[1;33m,\u001b[0m \u001b[1;36m3\u001b[0m\u001b[1;33m,\u001b[0m \u001b[1;36m2\u001b[0m\u001b[1;33m,\u001b[0m \u001b[0minput_shape\u001b[0m \u001b[1;33m=\u001b[0m \u001b[1;33m(\u001b[0m\u001b[1;36m256\u001b[0m\u001b[1;33m,\u001b[0m \u001b[1;36m256\u001b[0m\u001b[1;33m,\u001b[0m \u001b[1;36m3\u001b[0m\u001b[1;33m)\u001b[0m\u001b[1;33m,\u001b[0m \u001b[0mactivation\u001b[0m\u001b[1;33m=\u001b[0m\u001b[1;34m'relu'\u001b[0m\u001b[1;33m)\u001b[0m\u001b[1;33m)\u001b[0m\u001b[1;33m\u001b[0m\u001b[1;33m\u001b[0m\u001b[0m\n\u001b[0m\u001b[0;32m      2\u001b[0m \u001b[0mclassifier\u001b[0m\u001b[1;33m.\u001b[0m\u001b[0madd\u001b[0m\u001b[1;33m(\u001b[0m\u001b[0mMaxPooling2D\u001b[0m\u001b[1;33m(\u001b[0m\u001b[0mpool_size\u001b[0m\u001b[1;33m=\u001b[0m\u001b[1;33m(\u001b[0m\u001b[1;36m2\u001b[0m\u001b[1;33m,\u001b[0m\u001b[1;36m2\u001b[0m\u001b[1;33m)\u001b[0m\u001b[1;33m)\u001b[0m\u001b[1;33m)\u001b[0m\u001b[1;33m\u001b[0m\u001b[1;33m\u001b[0m\u001b[0m\n\u001b[0;32m      3\u001b[0m \u001b[0mclassifier\u001b[0m\u001b[1;33m.\u001b[0m\u001b[0madd\u001b[0m\u001b[1;33m(\u001b[0m\u001b[0mFlatten\u001b[0m\u001b[1;33m(\u001b[0m\u001b[1;33m)\u001b[0m\u001b[1;33m)\u001b[0m\u001b[1;33m\u001b[0m\u001b[1;33m\u001b[0m\u001b[0m\n\u001b[0;32m      4\u001b[0m \u001b[0mclassifier\u001b[0m\u001b[1;33m.\u001b[0m\u001b[0madd\u001b[0m\u001b[1;33m(\u001b[0m\u001b[0mDense\u001b[0m\u001b[1;33m(\u001b[0m\u001b[0munits\u001b[0m \u001b[1;33m=\u001b[0m \u001b[1;36m128\u001b[0m\u001b[1;33m,\u001b[0m \u001b[0mactivation\u001b[0m\u001b[1;33m=\u001b[0m\u001b[1;34m'relu'\u001b[0m\u001b[1;33m)\u001b[0m\u001b[1;33m)\u001b[0m\u001b[1;33m\u001b[0m\u001b[1;33m\u001b[0m\u001b[0m\n\u001b[0;32m      5\u001b[0m \u001b[0mclassifier\u001b[0m\u001b[1;33m.\u001b[0m\u001b[0madd\u001b[0m\u001b[1;33m(\u001b[0m\u001b[0mDense\u001b[0m\u001b[1;33m(\u001b[0m\u001b[0munits\u001b[0m \u001b[1;33m=\u001b[0m \u001b[1;36m128\u001b[0m\u001b[1;33m,\u001b[0m \u001b[0mactivation\u001b[0m\u001b[1;33m=\u001b[0m\u001b[1;34m'relu'\u001b[0m\u001b[1;33m)\u001b[0m\u001b[1;33m)\u001b[0m\u001b[1;33m\u001b[0m\u001b[1;33m\u001b[0m\u001b[0m\n",
      "\u001b[1;32m~\\Anaconda3\\lib\\site-packages\\keras\\engine\\sequential.py\u001b[0m in \u001b[0;36madd\u001b[1;34m(self, layer)\u001b[0m\n\u001b[0;32m    180\u001b[0m                 \u001b[0mself\u001b[0m\u001b[1;33m.\u001b[0m\u001b[0minputs\u001b[0m \u001b[1;33m=\u001b[0m \u001b[0mnetwork\u001b[0m\u001b[1;33m.\u001b[0m\u001b[0mget_source_inputs\u001b[0m\u001b[1;33m(\u001b[0m\u001b[0mself\u001b[0m\u001b[1;33m.\u001b[0m\u001b[0moutputs\u001b[0m\u001b[1;33m[\u001b[0m\u001b[1;36m0\u001b[0m\u001b[1;33m]\u001b[0m\u001b[1;33m)\u001b[0m\u001b[1;33m\u001b[0m\u001b[1;33m\u001b[0m\u001b[0m\n\u001b[0;32m    181\u001b[0m         \u001b[1;32melif\u001b[0m \u001b[0mself\u001b[0m\u001b[1;33m.\u001b[0m\u001b[0moutputs\u001b[0m\u001b[1;33m:\u001b[0m\u001b[1;33m\u001b[0m\u001b[1;33m\u001b[0m\u001b[0m\n\u001b[1;32m--> 182\u001b[1;33m             \u001b[0moutput_tensor\u001b[0m \u001b[1;33m=\u001b[0m \u001b[0mlayer\u001b[0m\u001b[1;33m(\u001b[0m\u001b[0mself\u001b[0m\u001b[1;33m.\u001b[0m\u001b[0moutputs\u001b[0m\u001b[1;33m[\u001b[0m\u001b[1;36m0\u001b[0m\u001b[1;33m]\u001b[0m\u001b[1;33m)\u001b[0m\u001b[1;33m\u001b[0m\u001b[1;33m\u001b[0m\u001b[0m\n\u001b[0m\u001b[0;32m    183\u001b[0m             \u001b[1;32mif\u001b[0m \u001b[0misinstance\u001b[0m\u001b[1;33m(\u001b[0m\u001b[0moutput_tensor\u001b[0m\u001b[1;33m,\u001b[0m \u001b[0mlist\u001b[0m\u001b[1;33m)\u001b[0m\u001b[1;33m:\u001b[0m\u001b[1;33m\u001b[0m\u001b[1;33m\u001b[0m\u001b[0m\n\u001b[0;32m    184\u001b[0m                 raise TypeError('All layers in a Sequential model '\n",
      "\u001b[1;32m~\\Anaconda3\\lib\\site-packages\\keras\\backend\\tensorflow_backend.py\u001b[0m in \u001b[0;36msymbolic_fn_wrapper\u001b[1;34m(*args, **kwargs)\u001b[0m\n\u001b[0;32m     73\u001b[0m         \u001b[1;32mif\u001b[0m \u001b[0m_SYMBOLIC_SCOPE\u001b[0m\u001b[1;33m.\u001b[0m\u001b[0mvalue\u001b[0m\u001b[1;33m:\u001b[0m\u001b[1;33m\u001b[0m\u001b[1;33m\u001b[0m\u001b[0m\n\u001b[0;32m     74\u001b[0m             \u001b[1;32mwith\u001b[0m \u001b[0mget_graph\u001b[0m\u001b[1;33m(\u001b[0m\u001b[1;33m)\u001b[0m\u001b[1;33m.\u001b[0m\u001b[0mas_default\u001b[0m\u001b[1;33m(\u001b[0m\u001b[1;33m)\u001b[0m\u001b[1;33m:\u001b[0m\u001b[1;33m\u001b[0m\u001b[1;33m\u001b[0m\u001b[0m\n\u001b[1;32m---> 75\u001b[1;33m                 \u001b[1;32mreturn\u001b[0m \u001b[0mfunc\u001b[0m\u001b[1;33m(\u001b[0m\u001b[1;33m*\u001b[0m\u001b[0margs\u001b[0m\u001b[1;33m,\u001b[0m \u001b[1;33m**\u001b[0m\u001b[0mkwargs\u001b[0m\u001b[1;33m)\u001b[0m\u001b[1;33m\u001b[0m\u001b[1;33m\u001b[0m\u001b[0m\n\u001b[0m\u001b[0;32m     76\u001b[0m         \u001b[1;32melse\u001b[0m\u001b[1;33m:\u001b[0m\u001b[1;33m\u001b[0m\u001b[1;33m\u001b[0m\u001b[0m\n\u001b[0;32m     77\u001b[0m             \u001b[1;32mreturn\u001b[0m \u001b[0mfunc\u001b[0m\u001b[1;33m(\u001b[0m\u001b[1;33m*\u001b[0m\u001b[0margs\u001b[0m\u001b[1;33m,\u001b[0m \u001b[1;33m**\u001b[0m\u001b[0mkwargs\u001b[0m\u001b[1;33m)\u001b[0m\u001b[1;33m\u001b[0m\u001b[1;33m\u001b[0m\u001b[0m\n",
      "\u001b[1;32m~\\Anaconda3\\lib\\site-packages\\keras\\engine\\base_layer.py\u001b[0m in \u001b[0;36m__call__\u001b[1;34m(self, inputs, **kwargs)\u001b[0m\n\u001b[0;32m    444\u001b[0m                 \u001b[1;31m# Raise exceptions in case the input is not compatible\u001b[0m\u001b[1;33m\u001b[0m\u001b[1;33m\u001b[0m\u001b[1;33m\u001b[0m\u001b[0m\n\u001b[0;32m    445\u001b[0m                 \u001b[1;31m# with the input_spec specified in the layer constructor.\u001b[0m\u001b[1;33m\u001b[0m\u001b[1;33m\u001b[0m\u001b[1;33m\u001b[0m\u001b[0m\n\u001b[1;32m--> 446\u001b[1;33m                 \u001b[0mself\u001b[0m\u001b[1;33m.\u001b[0m\u001b[0massert_input_compatibility\u001b[0m\u001b[1;33m(\u001b[0m\u001b[0minputs\u001b[0m\u001b[1;33m)\u001b[0m\u001b[1;33m\u001b[0m\u001b[1;33m\u001b[0m\u001b[0m\n\u001b[0m\u001b[0;32m    447\u001b[0m \u001b[1;33m\u001b[0m\u001b[0m\n\u001b[0;32m    448\u001b[0m                 \u001b[1;31m# Collect input shapes to build layer.\u001b[0m\u001b[1;33m\u001b[0m\u001b[1;33m\u001b[0m\u001b[1;33m\u001b[0m\u001b[0m\n",
      "\u001b[1;32m~\\Anaconda3\\lib\\site-packages\\keras\\engine\\base_layer.py\u001b[0m in \u001b[0;36massert_input_compatibility\u001b[1;34m(self, inputs)\u001b[0m\n\u001b[0;32m    340\u001b[0m                                      \u001b[0mself\u001b[0m\u001b[1;33m.\u001b[0m\u001b[0mname\u001b[0m \u001b[1;33m+\u001b[0m \u001b[1;34m': expected ndim='\u001b[0m \u001b[1;33m+\u001b[0m\u001b[1;33m\u001b[0m\u001b[1;33m\u001b[0m\u001b[0m\n\u001b[0;32m    341\u001b[0m                                      \u001b[0mstr\u001b[0m\u001b[1;33m(\u001b[0m\u001b[0mspec\u001b[0m\u001b[1;33m.\u001b[0m\u001b[0mndim\u001b[0m\u001b[1;33m)\u001b[0m \u001b[1;33m+\u001b[0m \u001b[1;34m', found ndim='\u001b[0m \u001b[1;33m+\u001b[0m\u001b[1;33m\u001b[0m\u001b[1;33m\u001b[0m\u001b[0m\n\u001b[1;32m--> 342\u001b[1;33m                                      str(K.ndim(x)))\n\u001b[0m\u001b[0;32m    343\u001b[0m             \u001b[1;32mif\u001b[0m \u001b[0mspec\u001b[0m\u001b[1;33m.\u001b[0m\u001b[0mmax_ndim\u001b[0m \u001b[1;32mis\u001b[0m \u001b[1;32mnot\u001b[0m \u001b[1;32mNone\u001b[0m\u001b[1;33m:\u001b[0m\u001b[1;33m\u001b[0m\u001b[1;33m\u001b[0m\u001b[0m\n\u001b[0;32m    344\u001b[0m                 \u001b[0mndim\u001b[0m \u001b[1;33m=\u001b[0m \u001b[0mK\u001b[0m\u001b[1;33m.\u001b[0m\u001b[0mndim\u001b[0m\u001b[1;33m(\u001b[0m\u001b[0mx\u001b[0m\u001b[1;33m)\u001b[0m\u001b[1;33m\u001b[0m\u001b[1;33m\u001b[0m\u001b[0m\n",
      "\u001b[1;31mValueError\u001b[0m: Input 0 is incompatible with layer conv2d_2: expected ndim=4, found ndim=2"
     ]
    }
   ],
   "source": [
    "classifier.add(Convolution2D(32, 3, 2, input_shape = (256, 256, 3), activation='relu'))\n",
    "classifier.add(MaxPooling2D(pool_size=(2,2)))\n",
    "classifier.add(Flatten())\n",
    "classifier.add(Dense(units = 128, activation='relu'))\n",
    "classifier.add(Dense(units = 128, activation='relu'))\n",
    "classifier.add(Dense(units = 128, activation='relu'))\n",
    "classifier.add(Dense(3, activation='softmax'))"
   ]
  },
  {
   "cell_type": "code",
   "execution_count": 10,
   "metadata": {},
   "outputs": [],
   "source": [
    "classifier.compile( optimizer=\"adam\",\n",
    "               loss='categorical_crossentropy',\n",
    "               metrics=['accuracy'] )"
   ]
  },
  {
   "cell_type": "code",
   "execution_count": 13,
   "metadata": {},
   "outputs": [
    {
     "name": "stdout",
     "output_type": "stream",
     "text": [
      "Epoch 1/40\n",
      "32/32 [==============================] - 2s 60ms/step - loss: 0.3966 - accuracy: 0.9375\n",
      "Epoch 2/40\n",
      "32/32 [==============================] - 2s 61ms/step - loss: 0.4222 - accuracy: 0.9375\n",
      "Epoch 3/40\n",
      "32/32 [==============================] - 2s 59ms/step - loss: 0.3898 - accuracy: 0.9375\n",
      "Epoch 4/40\n",
      "32/32 [==============================] - 2s 60ms/step - loss: 0.3051 - accuracy: 0.9375\n",
      "Epoch 5/40\n",
      "32/32 [==============================] - 2s 59ms/step - loss: 0.1862 - accuracy: 0.9375\n",
      "Epoch 6/40\n",
      "32/32 [==============================] - 2s 59ms/step - loss: 0.1708 - accuracy: 0.9375\n",
      "Epoch 7/40\n",
      "32/32 [==============================] - 5s 172ms/step - loss: 0.1231 - accuracy: 0.9688\n",
      "Epoch 8/40\n",
      "32/32 [==============================] - 3s 93ms/step - loss: 0.0659 - accuracy: 1.0000\n",
      "Epoch 9/40\n",
      "32/32 [==============================] - 2s 61ms/step - loss: 0.0785 - accuracy: 0.9688\n",
      "Epoch 10/40\n",
      "32/32 [==============================] - 2s 62ms/step - loss: 0.0550 - accuracy: 0.9688\n",
      "Epoch 11/40\n",
      "32/32 [==============================] - 2s 66ms/step - loss: 0.0466 - accuracy: 1.0000\n",
      "Epoch 12/40\n",
      "32/32 [==============================] - 2s 65ms/step - loss: 0.0287 - accuracy: 1.0000\n",
      "Epoch 13/40\n",
      "32/32 [==============================] - 2s 64ms/step - loss: 0.0159 - accuracy: 1.0000\n",
      "Epoch 14/40\n",
      "32/32 [==============================] - 2s 63ms/step - loss: 0.0221 - accuracy: 1.0000\n",
      "Epoch 15/40\n",
      "32/32 [==============================] - 2s 65ms/step - loss: 0.0215 - accuracy: 1.0000\n",
      "Epoch 16/40\n",
      "32/32 [==============================] - 2s 66ms/step - loss: 0.0161 - accuracy: 1.0000\n",
      "Epoch 17/40\n",
      "32/32 [==============================] - 2s 71ms/step - loss: 0.0107 - accuracy: 1.0000\n",
      "Epoch 18/40\n",
      "32/32 [==============================] - 2s 65ms/step - loss: 0.0084 - accuracy: 1.0000\n",
      "Epoch 19/40\n",
      "32/32 [==============================] - 2s 65ms/step - loss: 0.0067 - accuracy: 1.0000\n",
      "Epoch 20/40\n",
      "32/32 [==============================] - 2s 65ms/step - loss: 0.0054 - accuracy: 1.0000\n",
      "Epoch 21/40\n",
      "32/32 [==============================] - 2s 66ms/step - loss: 0.0052 - accuracy: 1.0000\n",
      "Epoch 22/40\n",
      "32/32 [==============================] - 2s 69ms/step - loss: 0.0051 - accuracy: 1.0000\n",
      "Epoch 23/40\n",
      "32/32 [==============================] - 2s 68ms/step - loss: 0.0044 - accuracy: 1.0000\n",
      "Epoch 24/40\n",
      "32/32 [==============================] - 2s 66ms/step - loss: 0.0036 - accuracy: 1.0000\n",
      "Epoch 25/40\n",
      "32/32 [==============================] - 2s 65ms/step - loss: 0.0031 - accuracy: 1.0000\n",
      "Epoch 26/40\n",
      "32/32 [==============================] - 2s 69ms/step - loss: 0.0029 - accuracy: 1.0000\n",
      "Epoch 27/40\n",
      "32/32 [==============================] - 2s 68ms/step - loss: 0.0028 - accuracy: 1.0000\n",
      "Epoch 28/40\n",
      "32/32 [==============================] - 2s 67ms/step - loss: 0.0027 - accuracy: 1.0000\n",
      "Epoch 29/40\n",
      "32/32 [==============================] - 2s 69ms/step - loss: 0.0025 - accuracy: 1.0000\n",
      "Epoch 30/40\n",
      "32/32 [==============================] - 2s 69ms/step - loss: 0.0022 - accuracy: 1.0000\n",
      "Epoch 31/40\n",
      "32/32 [==============================] - 2s 68ms/step - loss: 0.0019 - accuracy: 1.0000\n",
      "Epoch 32/40\n",
      "32/32 [==============================] - 2s 68ms/step - loss: 0.0018 - accuracy: 1.0000\n",
      "Epoch 33/40\n",
      "32/32 [==============================] - 2s 69ms/step - loss: 0.0016 - accuracy: 1.0000\n",
      "Epoch 34/40\n",
      "32/32 [==============================] - 2s 68ms/step - loss: 0.0015 - accuracy: 1.0000\n",
      "Epoch 35/40\n",
      "32/32 [==============================] - 2s 69ms/step - loss: 0.0014 - accuracy: 1.0000\n",
      "Epoch 36/40\n",
      "32/32 [==============================] - 2s 70ms/step - loss: 0.0013 - accuracy: 1.0000\n",
      "Epoch 37/40\n",
      "32/32 [==============================] - 2s 73ms/step - loss: 0.0012 - accuracy: 1.0000\n",
      "Epoch 38/40\n",
      "32/32 [==============================] - 2s 74ms/step - loss: 0.0010 - accuracy: 1.0000\n",
      "Epoch 39/40\n",
      "32/32 [==============================] - 2s 73ms/step - loss: 9.2277e-04 - accuracy: 1.0000\n",
      "Epoch 40/40\n",
      "32/32 [==============================] - 2s 73ms/step - loss: 8.3426e-04 - accuracy: 1.0000\n"
     ]
    }
   ],
   "source": [
    "hist = classifier.fit( x=batchX, # training examples\n",
    "                  y=batchy, # desired output\n",
    "                  epochs=40,      # number of training epochs \n",
    "                  verbose=1)"
   ]
  },
  {
   "cell_type": "code",
   "execution_count": 78,
   "metadata": {},
   "outputs": [],
   "source": [
    "classifier.save(r'C:\\Users\\Gianl\\OneDrive\\Documenti\\progetto Deep learning\\COVID-19 Radiography Database\\model')"
   ]
  },
  {
   "cell_type": "code",
   "execution_count": 14,
   "metadata": {},
   "outputs": [
    {
     "name": "stdout",
     "output_type": "stream",
     "text": [
      "Accuracy: 1.0\n"
     ]
    },
    {
     "data": {
      "image/png": "[encoded data removed]",
      "text/plain": [
       "<Figure size 432x432 with 1 Axes>"
      ]
     },
     "metadata": {
      "needs_background": "dark"
     },
     "output_type": "display_data"
    }
   ],
   "source": [
    "%matplotlib inline\n",
    "import matplotlib.pyplot as plt\n",
    "# plot training epochs\n",
    "\n",
    "fig, axes = plt.subplots(figsize=(6,6))\n",
    "\n",
    "axes.plot(hist.history['loss'], label='Loss')\n",
    "axes.plot(hist.history['accuracy'], label='Accuracy')\n",
    "\n",
    "axes.set_title(\"Training History\", fontsize=18)\n",
    "axes.set_xlabel(\"Epochs\", fontsize=18)\n",
    "axes.legend(fontsize=20)\n",
    "\n",
    "# Final accuracy\n",
    "print (\"Accuracy:\", hist.history['accuracy'][-1])"
   ]
  },
  {
   "cell_type": "code",
   "execution_count": 15,
   "metadata": {},
   "outputs": [
    {
     "name": "stdout",
     "output_type": "stream",
     "text": [
      "Confusion Matrix\n",
      "[[13  0  0]\n",
      " [ 0  9  0]\n",
      " [ 0  0 10]]\n",
      "Classification Report\n",
      "              precision    recall  f1-score   support\n",
      "\n",
      "           0       1.00      1.00      1.00        13\n",
      "           1       1.00      1.00      1.00         9\n",
      "           2       1.00      1.00      1.00        10\n",
      "\n",
      "    accuracy                           1.00        32\n",
      "   macro avg       1.00      1.00      1.00        32\n",
      "weighted avg       1.00      1.00      1.00        32\n",
      "\n"
     ]
    }
   ],
   "source": [
    "from sklearn.metrics import confusion_matrix, classification_report\n",
    "import numpy as np\n",
    "\n",
    "# convert form prediction to id\n",
    "y_pred = classifier.predict(batchX)\n",
    "y_pred = np.argmax(y_pred, axis=1) # argmax along axis 1\n",
    "\n",
    "# convert from on-hot to original \n",
    "# (we could take the original)\n",
    "y_true = np.argmax(batchy, axis=1) # argmax along axis 1\n",
    "\n",
    "# compute confusion matrix\n",
    "print (\"Confusion Matrix\")\n",
    "print ( confusion_matrix(y_true, y_pred) )\n",
    "\n",
    "# compute classification report\n",
    "print (\"Classification Report\")\n",
    "print ( classification_report(y_true, y_pred) )"
   ]
  },
  {
   "cell_type": "code",
   "execution_count": 16,
   "metadata": {},
   "outputs": [
    {
     "name": "stdout",
     "output_type": "stream",
     "text": [
      "Batch shape=(32, 256, 256, 3), min=0.000, max=1.000\n"
     ]
    }
   ],
   "source": [
    "batchXt, batchyt = test_it.next()\n",
    "print('Batch shape=%s, min=%.3f, max=%.3f' % (batchX.shape, batchX.min(), batchX.max()))"
   ]
  },
  {
   "cell_type": "code",
   "execution_count": 17,
   "metadata": {},
   "outputs": [
    {
     "name": "stdout",
     "output_type": "stream",
     "text": [
      "Confusion Matrix\n",
      "[[11  0  1]\n",
      " [ 2  5  4]\n",
      " [ 0  0  9]]\n",
      "Classification Report\n",
      "              precision    recall  f1-score   support\n",
      "\n",
      "           0       0.85      0.92      0.88        12\n",
      "           1       1.00      0.45      0.62        11\n",
      "           2       0.64      1.00      0.78         9\n",
      "\n",
      "    accuracy                           0.78        32\n",
      "   macro avg       0.83      0.79      0.76        32\n",
      "weighted avg       0.84      0.78      0.76        32\n",
      "\n"
     ]
    }
   ],
   "source": [
    "from sklearn.metrics import confusion_matrix, classification_report\n",
    "import numpy as np\n",
    "\n",
    "# convert form prediction to id\n",
    "y_pred = classifier.predict(batchXt)\n",
    "y_pred = np.argmax(y_pred, axis=1) # argmax along axis 1\n",
    "\n",
    "# convert from on-hot to original \n",
    "# (we could take the original)\n",
    "y_true = np.argmax(batchyt, axis=1) # argmax along axis 1\n",
    "\n",
    "# compute confusion matrix\n",
    "print (\"Confusion Matrix\")\n",
    "print ( confusion_matrix(y_true, y_pred) )\n",
    "\n",
    "# compute classification report\n",
    "print (\"Classification Report\")\n",
    "print ( classification_report(y_true, y_pred) )"
   ]
  }
 ],
 "metadata": {
  "kernelspec": {
   "display_name": "Python 3",
   "language": "python",
   "name": "python3"
  },
  "language_info": {
   "codemirror_mode": {
    "name": "ipython",
    "version": 3
   },
   "file_extension": ".py",
   "mimetype": "text/x-python",
   "name": "python",
   "nbconvert_exporter": "python",
   "pygments_lexer": "ipython3",
   "version": "3.7.7"
  }
 },
 "nbformat": 4,
 "nbformat_minor": 4
}
