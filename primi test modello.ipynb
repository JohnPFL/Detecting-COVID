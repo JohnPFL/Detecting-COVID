{
 "cells": [
  {
   "cell_type": "markdown",
   "metadata": {},
   "source": [
    "# Detecting Covid-19 with Keras neural network"
   ]
  },
  {
   "cell_type": "markdown",
   "metadata": {},
   "source": [
    "## 0. Import and loading"
   ]
  },
  {
   "cell_type": "code",
   "execution_count": 26,
   "metadata": {},
   "outputs": [],
   "source": [
    "from keras.preprocessing.image import load_img\n",
    "from keras.preprocessing.image import ImageDataGenerator"
   ]
  },
  {
   "cell_type": "code",
   "execution_count": 27,
   "metadata": {},
   "outputs": [],
   "source": [
    "train_datagen = ImageDataGenerator(rescale=1./255, \n",
    "                                   shear_range=0.2, \n",
    "                                   zoom_range=0.2, \n",
    "                                   horizontal_flip=True)"
   ]
  },
  {
   "cell_type": "code",
   "execution_count": 28,
   "metadata": {},
   "outputs": [],
   "source": [
    "test_datagen = ImageDataGenerator(rescale=1./255)"
   ]
  },
  {
   "cell_type": "code",
   "execution_count": 29,
   "metadata": {},
   "outputs": [
    {
     "name": "stdout",
     "output_type": "stream",
     "text": [
      "Found 492 images belonging to 3 classes.\n",
      "Found 123 images belonging to 3 classes.\n"
     ]
    }
   ],
   "source": [
    "train_it = train_datagen.flow_from_directory(r'C:\\Users\\Gianl\\OneDrive\\Documenti\\progetto Deep learning\\COVID-19 Radiography Database\\train',\n",
    "                                     target_size=(256, 256),\n",
    "                                     batch_size=32,\n",
    "                                     color_mode=\"rgb\",\n",
    "                                     class_mode=\"categorical\",\n",
    "                                     shuffle=True,\n",
    "                                     seed=42)\n",
    "# load and iterate test dataset\n",
    "test_it = test_datagen.flow_from_directory(r'C:\\Users\\Gianl\\OneDrive\\Documenti\\progetto Deep learning\\COVID-19 Radiography Database\\test', \n",
    "                                    target_size=(256, 256),\n",
    "                                     batch_size=32,\n",
    "                                     color_mode=\"rgb\",\n",
    "                                     class_mode=\"categorical\",\n",
    "                                     shuffle=True,\n",
    "                                     seed=42)"
   ]
  },
  {
   "cell_type": "markdown",
   "metadata": {},
   "source": [
    "## 1. Our models"
   ]
  },
  {
   "cell_type": "code",
   "execution_count": 30,
   "metadata": {},
   "outputs": [],
   "source": [
    "from keras.models import Sequential\n",
    "from keras.layers import Conv2D, MaxPooling2D\n",
    "from keras.layers import Activation, Dropout, Flatten, Dense\n",
    "from keras.layers import Convolution2D\n",
    "\n",
    "classifier = Sequential()"
   ]
  },
  {
   "cell_type": "code",
   "execution_count": 31,
   "metadata": {},
   "outputs": [
    {
     "name": "stderr",
     "output_type": "stream",
     "text": [
      "C:\\Users\\Gianl\\Anaconda3\\lib\\site-packages\\ipykernel_launcher.py:1: UserWarning: Update your `Conv2D` call to the Keras 2 API: `Conv2D(61, (3, 2), input_shape=(256, 256,..., activation=\"relu\")`\n",
      "  \"\"\"Entry point for launching an IPython kernel.\n"
     ]
    }
   ],
   "source": [
    "classifier.add(Convolution2D(61, 3, 2, input_shape = (256, 256, 3), activation='relu'))\n",
    "classifier.add(MaxPooling2D(pool_size=(2,2)))\n",
    "classifier.add(Flatten())\n",
    "classifier.add(Dense(units = 128, activation='relu'))\n",
    "classifier.add(Dense(units = 128, activation='relu'))\n",
    "classifier.add(Dense(units = 128, activation='relu'))\n",
    "classifier.add(Dense(3, activation='softmax'))"
   ]
  },
  {
   "cell_type": "code",
   "execution_count": 32,
   "metadata": {},
   "outputs": [],
   "source": [
    "classifier.compile( optimizer=\"adam\",\n",
    "               loss='categorical_crossentropy',\n",
    "               metrics=['accuracy'] )"
   ]
  },
  {
   "cell_type": "code",
   "execution_count": 16,
   "metadata": {},
   "outputs": [
    {
     "name": "stdout",
     "output_type": "stream",
     "text": [
      "Model: \"sequential_1\"\n",
      "_________________________________________________________________\n",
      "Layer (type)                 Output Shape              Param #   \n",
      "=================================================================\n",
      "conv2d_1 (Conv2D)            (None, 254, 255, 61)      1159      \n",
      "_________________________________________________________________\n",
      "max_pooling2d_1 (MaxPooling2 (None, 127, 127, 61)      0         \n",
      "_________________________________________________________________\n",
      "flatten_1 (Flatten)          (None, 983869)            0         \n",
      "_________________________________________________________________\n",
      "dense_1 (Dense)              (None, 128)               125935360 \n",
      "_________________________________________________________________\n",
      "dense_2 (Dense)              (None, 128)               16512     \n",
      "_________________________________________________________________\n",
      "dense_3 (Dense)              (None, 128)               16512     \n",
      "_________________________________________________________________\n",
      "dense_4 (Dense)              (None, 3)                 387       \n",
      "=================================================================\n",
      "Total params: 125,969,930\n",
      "Trainable params: 125,969,930\n",
      "Non-trainable params: 0\n",
      "_________________________________________________________________\n"
     ]
    }
   ],
   "source": [
    "classifier.summary(line_length=None, positions=None, print_fn=None)"
   ]
  },
  {
   "cell_type": "markdown",
   "metadata": {},
   "source": [
    "## 2. Fitting"
   ]
  },
  {
   "cell_type": "code",
   "execution_count": 33,
   "metadata": {},
   "outputs": [],
   "source": [
    "#definiamo step_size per train e test\n",
    "STEP_SIZE_TRAIN=train_it.n//train_it.batch_size\n",
    "STEP_SIZE_VALID=test_it.n//test_it.batch_size"
   ]
  },
  {
   "cell_type": "code",
   "execution_count": 34,
   "metadata": {},
   "outputs": [
    {
     "data": {
      "text/plain": [
       "15"
      ]
     },
     "execution_count": 34,
     "metadata": {},
     "output_type": "execute_result"
    }
   ],
   "source": [
    "STEP_SIZE_TRAIN"
   ]
  },
  {
   "cell_type": "code",
   "execution_count": 47,
   "metadata": {},
   "outputs": [
    {
     "name": "stdout",
     "output_type": "stream",
     "text": [
      "Epoch 1/1\n",
      "15/15 [==============================] - 218s 15s/step - loss: 1.1255 - accuracy: 0.5562 - val_loss: 0.7096 - val_accuracy: 0.5104\n"
     ]
    }
   ],
   "source": [
    "hist = classifier.fit_generator(generator=train_it,\n",
    "                    steps_per_epoch=STEP_SIZE_TRAIN,\n",
    "                    validation_data=test_it,\n",
    "                    validation_steps=STEP_SIZE_VALID,\n",
    "                    epochs= 1\n",
    ")"
   ]
  },
  {
   "cell_type": "markdown",
   "metadata": {},
   "source": [
    "## 3. Evaluation"
   ]
  },
  {
   "cell_type": "code",
   "execution_count": 36,
   "metadata": {},
   "outputs": [
    {
     "data": {
      "text/plain": [
       "[1.1866611242294312, 0.4583333432674408]"
      ]
     },
     "execution_count": 36,
     "metadata": {},
     "output_type": "execute_result"
    }
   ],
   "source": [
    "evaluation = classifier.evaluate_generator(generator=test_it,\n",
    "steps=STEP_SIZE_VALID)"
   ]
  },
  {
   "cell_type": "code",
   "execution_count": 48,
   "metadata": {},
   "outputs": [
    {
     "name": "stdout",
     "output_type": "stream",
     "text": [
      "Accuracy: 0.55625\n"
     ]
    },
    {
     "data": {
      "image/png": "[encoded data removed]",
      "text/plain": [
       "<Figure size 432x432 with 1 Axes>"
      ]
     },
     "metadata": {
      "needs_background": "dark"
     },
     "output_type": "display_data"
    }
   ],
   "source": [
    "%matplotlib inline\n",
    "import matplotlib.pyplot as plt\n",
    "# plot training epochs\n",
    "\n",
    "fig, axes = plt.subplots(figsize=(6,6))\n",
    "\n",
    "axes.plot(hist.history['loss'], label='Loss')\n",
    "axes.plot(hist.history['accuracy'], label='Accuracy')\n",
    "\n",
    "axes.set_title(\"Training History\", fontsize=18)\n",
    "axes.set_xlabel(\"Epochs\", fontsize=18)\n",
    "axes.legend(fontsize=20)\n",
    "\n",
    "# Final accuracy\n",
    "print (\"Accuracy:\", hist.history['accuracy'][-1])"
   ]
  },
  {
   "cell_type": "code",
   "execution_count": 38,
   "metadata": {},
   "outputs": [],
   "source": [
    "from sklearn.metrics import confusion_matrix, classification_report\n",
    "import numpy as np\n",
    "\n",
    "# convert form prediction to id\n",
    "y_pred = classifier.predict(test_it)\n",
    "y_pred = np.argmax(y_pred, axis=1) # argmax along axis 1\n",
    "\n",
    "y_true = test_it.labels # argmax along axis 1\n",
    "\n",
    "# compute confusion matrix\n",
    "print (\"Confusion Matrix\")\n",
    "print ( confusion_matrix(y_true, y_pred) )\n",
    "\n",
    "# compute classification report\n",
    "print (\"Classification Report\")\n",
    "print ( classification_report(y_true, y_pred) )"
   ]
  },
  {
   "cell_type": "code",
   "execution_count": 78,
   "metadata": {},
   "outputs": [],
   "source": [
    "#comando per salvare il modello\n",
    "classifier.save(r'C:\\Users\\Gianl\\OneDrive\\Documenti\\progetto Deep learning\\COVID-19 Radiography Database\\model')"
   ]
  }
 ],
 "metadata": {
  "kernelspec": {
   "display_name": "Python 3",
   "language": "python",
   "name": "python3"
  },
  "language_info": {
   "codemirror_mode": {
    "name": "ipython",
    "version": 3
   },
   "file_extension": ".py",
   "mimetype": "text/x-python",
   "name": "python",
   "nbconvert_exporter": "python",
   "pygments_lexer": "ipython3",
   "version": "3.7.7"
  }
 },
 "nbformat": 4,
 "nbformat_minor": 4
}
